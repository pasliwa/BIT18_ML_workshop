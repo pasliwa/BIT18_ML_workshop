{
 "cells": [
  {
   "cell_type": "markdown",
   "metadata": {},
   "source": [
    "# Introduction to Machine Learning\n",
    "\n",
    "In Machine Learning we want to extract the most useful information from our data and use it to predict, what will happen in new (unseen) situations (e.g. in the future).\n",
    "\n",
    "Most simply, we can divide machine learning methods into: W najprostszym podziale uczenia maszynowego wyróżniamy:\n",
    "\n",
    "+ supervised learning\n",
    "+ unsupervised learning\n",
    "\n",
    "There is also reinforcement learning, semisupervised learning, but we won't talk about these today.\n",
    "\n",
    "\n",
    "## Supervised Learning - the idea\n",
    "\n",
    "To model a process, we need to have data - observations. E.g. when we want to model the malignancy of a tumor, we need to have many training instances consisting of tumor's characteristics (size, number of metastases, etc.) and measured malignancy (e.g. survival time). \n",
    "\n",
    "1. Gather data - e.g. archives, databases.\n",
    "2. Since it's an archive, we have total data - features and the outcome\n",
    "\n",
    "We want to create a model to predict outcomes for new patients."
   ]
  },
  {
   "cell_type": "markdown",
   "metadata": {},
   "source": [
    "<img src=\"figures/supervised_workflow.svg\" width=\"80%\">"
   ]
  },
  {
   "cell_type": "markdown",
   "metadata": {},
   "source": [
    "### Training and test sets\n",
    "\n",
    "To evaluate the model we divide our archive into two parts:\n",
    "\n",
    "+ training set - which we will use to create the model, choose its parameters, etc.\n",
    "+ test set - which we will use to evaluate the quality of our model (how it behaves on unknown [not available during training] data)\n",
    "\n",
    "Test set is untouchable - we use it only at the end to evaluate the model. Normalization, learning etc. are performed without looking at the test set."
   ]
  },
  {
   "cell_type": "markdown",
   "metadata": {},
   "source": [
    "<img src=\"figures/train_test_split_matrix.svg\" width=\"80%\">"
   ]
  },
  {
   "cell_type": "markdown",
   "metadata": {},
   "source": [
    "So the data format that scikit-learn uses is as follows:\n",
    "+ X - ** two-dimensional numpy array** (basically a matrix) with shape: `[n_observations, n_features]`\n",
    "+ y - ** two-dimensional numpy array**  with outcomes (shape: `[n_observations, 1]`)\n",
    "\n",
    "numpy array -> np.ndarray"
   ]
  },
  {
   "cell_type": "markdown",
   "metadata": {},
   "source": [
    "## Unsupervised learning - the idea\n",
    "\n",
    "Here we want to achieve something else - get to know the structure of the data.\n",
    "Staying in the domain of oncology: we gathered big amount of data on various tumors and now we would like to know, how many types of cancer we can discern in the data."
   ]
  },
  {
   "cell_type": "markdown",
   "metadata": {},
   "source": [
    "<img src=\"figures/clustering.png\" width=\"90%\">"
   ]
  },
  {
   "cell_type": "markdown",
   "metadata": {},
   "source": [
    "## Simplified classification of machine learning methods\n",
    "\n",
    "<img src=\"figures/ml_taxonomy.png\" width=\"80%\">\n",
    "\n",
    "** Let's get some practice!**"
   ]
  }
 ],
 "metadata": {
  "kernelspec": {
   "display_name": "Python 3",
   "language": "python",
   "name": "python3"
  },
  "language_info": {
   "codemirror_mode": {
    "name": "ipython",
    "version": 3
   },
   "file_extension": ".py",
   "mimetype": "text/x-python",
   "name": "python",
   "nbconvert_exporter": "python",
   "pygments_lexer": "ipython3",
   "version": "3.6.4"
  }
 },
 "nbformat": 4,
 "nbformat_minor": 2
}
